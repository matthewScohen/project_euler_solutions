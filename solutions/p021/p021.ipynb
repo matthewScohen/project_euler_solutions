{
 "cells": [
  {
   "cell_type": "markdown",
   "id": "521212a9-304b-44b9-a42e-517fa9da7305",
   "metadata": {},
   "source": [
    "https://projecteuler.net/problem=21\n",
    "<p>Let $d(n)$ be defined as the sum of proper divisors of $n$ (numbers less than $n$ which divide evenly into $n$).<br>\n",
    "If $d(a) = b$ and $d(b) = a$, where $a \\ne b$, then $a$ and $b$ are an amicable pair and each of $a$ and $b$ are called amicable numbers.</p>\n",
    "<p>For example, the proper divisors of $220$ are $1, 2, 4, 5, 10, 11, 20, 22, 44, 55$ and $110$; therefore $d(220) = 284$. The proper divisors of $284$ are $1, 2, 4, 71$ and $142$; so $d(284) = 220$.</p>\n",
    "<p>Evaluate the sum of all the amicable numbers under $10000$.</p>"
   ]
  },
  {
   "cell_type": "code",
   "execution_count": 88,
   "id": "251619fc-3912-4af8-95cf-ddbf144b088f",
   "metadata": {},
   "outputs": [
    {
     "data": {
      "text/plain": [
       "31626"
      ]
     },
     "execution_count": 88,
     "metadata": {},
     "output_type": "execute_result"
    }
   ],
   "source": [
    "import math\n",
    "def get_divisors(n):\n",
    "    # returns a list containing the divisors of n\n",
    "    divisors = []\n",
    "    for i in range(1,math.ceil(math.sqrt(n))):\n",
    "        if n % i == 0:\n",
    "            divisors.append(i)\n",
    "            divisors.append(int(n/i))\n",
    "    return divisors\n",
    "\n",
    "def d(n):\n",
    "    divisors = get_divisors(n)\n",
    "    # get_divisors returns n as a divisor but n is not counted as a divisor for the definition of d(n) so we remove it\n",
    "    if n in divisors: divisors.remove(n)\n",
    "    return sum(divisors)\n",
    "    \n",
    "sum(i for i in range(2, 10000) if i != d(i) and d(d(i)) == i)"
   ]
  }
 ],
 "metadata": {
  "kernelspec": {
   "display_name": "project_euler_conda",
   "language": "python",
   "name": "project_euler_conda"
  },
  "language_info": {
   "codemirror_mode": {
    "name": "ipython",
    "version": 3
   },
   "file_extension": ".py",
   "mimetype": "text/x-python",
   "name": "python",
   "nbconvert_exporter": "python",
   "pygments_lexer": "ipython3",
   "version": "3.9.17"
  }
 },
 "nbformat": 4,
 "nbformat_minor": 5
}
