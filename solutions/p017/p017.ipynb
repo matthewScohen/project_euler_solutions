{
 "cells": [
  {
   "cell_type": "markdown",
   "id": "4798c7bc-a9fd-46d6-b566-c6f73160a3a8",
   "metadata": {},
   "source": [
    "https://projecteuler.net/problem=17\n",
    "<p>If the numbers $1$ to $5$ are written out in words: one, two, three, four, five, then there are $3 + 3 + 5 + 4 + 4 = 19$ letters used in total.</p>\r\n",
    "<p>If all the numbers from $1$ to $1000$ (one thousand) inclusive were written out in words, how many letters would be used? </p>\r\n",
    "<br><p class=\"note\"><b>NOTE:</b> Do not count spaces or hyphens. For example, $342$ (three hundred and forty-two) contains $23$ letters and $115$ (one hundred and fifteen) contains $20$ letters. The use of \"and\" when writing out numbers is in compliance with British usage.</p>"
   ]
  },
  {
   "cell_type": "code",
   "execution_count": 128,
   "id": "92018266-a3d5-4407-a338-8b68cde860ba",
   "metadata": {},
   "outputs": [],
   "source": [
    "ones = [\"zero\", \"one\", \"two\", \"three\", \"four\", \"five\", \"six\", \"seven\", \"eight\", \"nine\",\n",
    "        \"ten\", \"eleven\", \"twelve\", \"thirteen\", \"fourteen\", \"fifteen\", \"sixteen\", \"seventeen\", \"eighteen\", \"nineteen\"]\n",
    "tens = [\"\", \"\", \"twenty\", \"thirty\", \"forty\", \"fifty\", \"sixty\", \"seventy\", \"eighty\", \"ninety\"]"
   ]
  },
  {
   "cell_type": "code",
   "execution_count": 135,
   "id": "bff571fc-9068-4f40-9e35-738abf4f4a75",
   "metadata": {},
   "outputs": [
    {
     "data": {
      "text/plain": [
       "21124"
      ]
     },
     "execution_count": 135,
     "metadata": {},
     "output_type": "execute_result"
    }
   ],
   "source": [
    "def num2string(n):\n",
    "    if n < 20:\n",
    "        return ones[n]\n",
    "    elif n < 100:\n",
    "        return tens[n // 10] + (ones[n % 10] if n % 10 != 0 else \"\")\n",
    "    elif n < 1000:\n",
    "        return ones[n // 100] + \"hundred\" + ((\"and\" + num2string(n % 100)) if (n % 100 != 0) else \"\")\n",
    "    elif n < 10000:\n",
    "        return ones[n // 1000] + \"thousand\" + (num2string(n % 1000) if n % 1000 != 0 else \"\") \n",
    "\n",
    "sum([len(num2string(i).replace(\"-\", \"\").replace(\" \", \"\")) for i in range(1,1001)])"
   ]
  }
 ],
 "metadata": {
  "kernelspec": {
   "display_name": "project_euler_conda",
   "language": "python",
   "name": "project_euler_conda"
  },
  "language_info": {
   "codemirror_mode": {
    "name": "ipython",
    "version": 3
   },
   "file_extension": ".py",
   "mimetype": "text/x-python",
   "name": "python",
   "nbconvert_exporter": "python",
   "pygments_lexer": "ipython3",
   "version": "3.9.17"
  }
 },
 "nbformat": 4,
 "nbformat_minor": 5
}
