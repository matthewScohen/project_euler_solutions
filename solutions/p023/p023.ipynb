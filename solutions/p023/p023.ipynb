{
 "cells": [
  {
   "cell_type": "markdown",
   "id": "5e94c1dd-87d9-4a8d-abac-b9a740eb7fda",
   "metadata": {},
   "source": [
    "https://projecteuler.net/problem=23\n",
    "<p>A perfect number is a number for which the sum of its proper divisors is exactly equal to the number. For example, the sum of the proper divisors of $28$ would be $1 + 2 + 4 + 7 + 14 = 28$, which means that $28$ is a perfect number.</p>\n",
    "<p>A number $n$ is called deficient if the sum of its proper divisors is less than $n$ and it is called abundant if this sum exceeds $n$.</p>\n",
    "\n",
    "<p>As $12$ is the smallest abundant number, $1 + 2 + 3 + 4 + 6 = 16$, the smallest number that can be written as the sum of two abundant numbers is $24$. By mathematical analysis, it can be shown that all integers greater than $28123$ can be written as the sum of two abundant numbers. However, this upper limit cannot be reduced any further by analysis even though it is known that the greatest number that cannot be expressed as the sum of two abundant numbers is less than this limit.</p>\n",
    "<p>Find the sum of all the positive integers which cannot be written as the sum of two abundant numbers.</p>\n"
   ]
  },
  {
   "cell_type": "code",
   "execution_count": 1,
   "id": "f7667ae2-60bf-43e3-a092-bc235ac86288",
   "metadata": {},
   "outputs": [
    {
     "name": "stdout",
     "output_type": "stream",
     "text": [
      "CPU times: user 7.55 s, sys: 7.85 ms, total: 7.56 s\n",
      "Wall time: 8.19 s\n"
     ]
    },
    {
     "data": {
      "text/plain": [
       "4179871"
      ]
     },
     "execution_count": 1,
     "metadata": {},
     "output_type": "execute_result"
    }
   ],
   "source": [
    "%%time\n",
    "import math\n",
    "CAP = 28124\n",
    "\n",
    "def get_divisors(n):\n",
    "    # returns a list containing the divisors of n not including n\n",
    "    if n <= 0: return []\n",
    "        \n",
    "    divisors = set([1])\n",
    "    for i in range(2,int(math.sqrt(n))+1):\n",
    "        if n % i == 0:\n",
    "            divisors.add(i)\n",
    "            divisors.add(int(n/i))\n",
    "    return divisors\n",
    "\n",
    "def is_abundant(n):\n",
    "    return sum(get_divisors(n)) > n\n",
    "\n",
    "def sum_in_list(n, k, nums, sorted=False):\n",
    "    # returns True if the sum n and be created k from elements from nums and False otherwise\n",
    "    if not sorted:\n",
    "        nums.sort()\n",
    "    l = 0\n",
    "    r = len(nums) - 1\n",
    "    while l != r:\n",
    "        pair_sum = nums[l] + nums[r]\n",
    "        if pair_sum == n:\n",
    "            return True\n",
    "        elif pair_sum < n:\n",
    "            l += 1\n",
    "        elif pair_sum > n:\n",
    "            r -= 1\n",
    "    return False\n",
    "    \n",
    "abundant_nums = [i for i in range(CAP) if is_abundant(i)]\n",
    "sum([n for n in range(CAP) if not (sum_in_list(n, 2, abundant_nums, sorted=True) or n/2 in abundant_nums)])"
   ]
  }
 ],
 "metadata": {
  "kernelspec": {
   "display_name": "project_euler_conda",
   "language": "python",
   "name": "project_euler_conda"
  },
  "language_info": {
   "codemirror_mode": {
    "name": "ipython",
    "version": 3
   },
   "file_extension": ".py",
   "mimetype": "text/x-python",
   "name": "python",
   "nbconvert_exporter": "python",
   "pygments_lexer": "ipython3",
   "version": "3.9.17"
  }
 },
 "nbformat": 4,
 "nbformat_minor": 5
}
