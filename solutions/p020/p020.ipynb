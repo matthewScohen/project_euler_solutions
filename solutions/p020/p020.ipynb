{
 "cells": [
  {
   "cell_type": "markdown",
   "id": "6b8fd5bd-315c-4820-aca4-7bf3ddc168a9",
   "metadata": {},
   "source": [
    "https://projecteuler.net/problem=20\n",
    "<p>$n!$ means $n \\times (n - 1) \\times \\cdots \\times 3 \\times 2 \\times 1$.</p>\r\n",
    "<p>For example, $10! = 10 \\times 9 \\times \\cdots \\times 3 \\times 2 \\times 1 = 3628800$,<br>and the sum of the digits in the number $10!$ is $3 + 6 + 2 + 8 + 8 + 0 + 0 = 27$.</p>\r\n",
    "<p>Find the sum of the digits in the number $100!$.</p>\r\n"
   ]
  },
  {
   "cell_type": "code",
   "execution_count": 8,
   "id": "64a35b6b-ddd4-4010-9e74-d601ab0f47b6",
   "metadata": {},
   "outputs": [
    {
     "data": {
      "text/plain": [
       "648"
      ]
     },
     "execution_count": 8,
     "metadata": {},
     "output_type": "execute_result"
    }
   ],
   "source": [
    "def factorial(n):\n",
    "    if n == 1:\n",
    "        return 1\n",
    "    else:\n",
    "        return n*factorial(n-1)\n",
    "\n",
    "sum(int(i) for i in str(factorial(100)))"
   ]
  }
 ],
 "metadata": {
  "kernelspec": {
   "display_name": "project_euler_conda",
   "language": "python",
   "name": "project_euler_conda"
  },
  "language_info": {
   "codemirror_mode": {
    "name": "ipython",
    "version": 3
   },
   "file_extension": ".py",
   "mimetype": "text/x-python",
   "name": "python",
   "nbconvert_exporter": "python",
   "pygments_lexer": "ipython3",
   "version": "3.9.17"
  }
 },
 "nbformat": 4,
 "nbformat_minor": 5
}
