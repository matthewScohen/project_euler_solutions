{
 "cells": [
  {
   "cell_type": "markdown",
   "id": "301e1db5-aaa3-4341-9851-89f158d4bbc4",
   "metadata": {},
   "source": [
    "https://projecteuler.net/problem=22\n",
    "<p>Using <a href=\"resources/documents/0022_names.txt\">names.txt</a> (right click and 'Save Link/Target As...'), a 46K text file containing over five-thousand first names, begin by sorting it into alphabetical order. Then working out the alphabetical value for each name, multiply this value by its alphabetical position in the list to obtain a name score.</p>\r\n",
    "<p>For example, when the list is sorted into alphabetical order, COLIN, which is worth $3 + 15 + 12 + 9 + 14 = 53$, is the $938$th name in the list. So, COLIN would obtain a score of $938 \\times 53 = 49714$.</p>\r\n",
    "<p>What is the total of all the name scores in the file?</p>\r\n"
   ]
  },
  {
   "cell_type": "code",
   "execution_count": 1,
   "id": "8b353aa7-5436-4296-a40b-fd7e52ff6347",
   "metadata": {},
   "outputs": [],
   "source": [
    "with open(\"names.txt\") as file:\n",
    "    names = file.read()\n",
    "names.replace('\"', \"\")\n",
    "names = names.split(\",\")\n",
    "names = [name.strip('\"') for name in names]"
   ]
  },
  {
   "cell_type": "code",
   "execution_count": 2,
   "id": "1d3ecf75-639b-4e8c-95de-c1ba1cf36768",
   "metadata": {},
   "outputs": [
    {
     "data": {
      "text/plain": [
       "871198282"
      ]
     },
     "execution_count": 2,
     "metadata": {},
     "output_type": "execute_result"
    }
   ],
   "source": [
    "names.sort()\n",
    "sum([(i+1) * sum(ord(letter) - 64 for letter in name) for i, name in enumerate(names)])"
   ]
  }
 ],
 "metadata": {
  "kernelspec": {
   "display_name": "project_euler_conda",
   "language": "python",
   "name": "project_euler_conda"
  },
  "language_info": {
   "codemirror_mode": {
    "name": "ipython",
    "version": 3
   },
   "file_extension": ".py",
   "mimetype": "text/x-python",
   "name": "python",
   "nbconvert_exporter": "python",
   "pygments_lexer": "ipython3",
   "version": "3.9.17"
  }
 },
 "nbformat": 4,
 "nbformat_minor": 5
}
