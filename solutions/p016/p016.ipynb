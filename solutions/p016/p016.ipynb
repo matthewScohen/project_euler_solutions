{
 "cells": [
  {
   "cell_type": "markdown",
   "id": "8a5f7fd3-f748-4fe8-801a-e8bc3c11617d",
   "metadata": {},
   "source": [
    "https://projecteuler.net/problem=16\n",
    "<p>$2^{15} = 32768$ and the sum of its digits is $3 + 2 + 7 + 6 + 8 = 26$.</p>\r\n",
    "<p>What is the sum of the digits of the number $2^{1000}$?</p>\r\n"
   ]
  },
  {
   "cell_type": "code",
   "execution_count": 3,
   "id": "3e27551d-167c-4976-b4d3-319bb09b7d51",
   "metadata": {},
   "outputs": [
    {
     "data": {
      "text/plain": [
       "1366"
      ]
     },
     "execution_count": 3,
     "metadata": {},
     "output_type": "execute_result"
    }
   ],
   "source": [
    "sum([int(i) for i in str(2**1000)])"
   ]
  }
 ],
 "metadata": {
  "kernelspec": {
   "display_name": "project_euler_conda",
   "language": "python",
   "name": "project_euler_conda"
  },
  "language_info": {
   "codemirror_mode": {
    "name": "ipython",
    "version": 3
   },
   "file_extension": ".py",
   "mimetype": "text/x-python",
   "name": "python",
   "nbconvert_exporter": "python",
   "pygments_lexer": "ipython3",
   "version": "3.9.17"
  }
 },
 "nbformat": 4,
 "nbformat_minor": 5
}
