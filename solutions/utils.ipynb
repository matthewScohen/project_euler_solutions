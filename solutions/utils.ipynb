{
 "cells": [
  {
   "cell_type": "code",
   "execution_count": null,
   "id": "a11533b9-c65c-40cc-941a-51346470bff6",
   "metadata": {},
   "outputs": [],
   "source": [
    "def get_divisors(n):\n",
    "    # returns a list containing the divisors of n not including n\n",
    "    if n <= 0: return []\n",
    "        \n",
    "    divisors = set([1])\n",
    "    for i in range(2,int(math.sqrt(n))+1):\n",
    "        if n % i == 0:\n",
    "            divisors.add(i)\n",
    "            divisors.add(int(n/i))\n",
    "    return divisors"
   ]
  },
  {
   "cell_type": "code",
   "execution_count": null,
   "id": "13f92846-f97b-4b0a-8ed1-f58c21bcf440",
   "metadata": {},
   "outputs": [],
   "source": [
    "def fibonacci(max_value):\n",
    "    a = 0\n",
    "    b = 1\n",
    "    while b < max_value:\n",
    "        next_term = a + b\n",
    "        a = b\n",
    "        b = next_term\n",
    "        yield next_term"
   ]
  },
  {
   "cell_type": "code",
   "execution_count": 8,
   "id": "a8d008a6-9ef3-44be-a945-7391636adb07",
   "metadata": {},
   "outputs": [],
   "source": [
    "def factorial(n):\n",
    "    if n == 1:\n",
    "        return 1\n",
    "    else:\n",
    "        return n*factorial(n-1)"
   ]
  },
  {
   "cell_type": "code",
   "execution_count": 3,
   "id": "e8a66f77-6ef0-4481-8554-3651617aca85",
   "metadata": {},
   "outputs": [],
   "source": [
    "def get_triangular_num(n):\n",
    "    # returns the nth triangular number \n",
    "    # the nth triangular number is the sum of all numbers on the interval [1,n]\n",
    "    return int(n*(n+1)/2)"
   ]
  },
  {
   "cell_type": "code",
   "execution_count": 6,
   "id": "792e497f-874a-42ba-a553-88e13577e567",
   "metadata": {},
   "outputs": [],
   "source": [
    "def is_prime(n):\n",
    "    for i in range(2, math.ceil(math.sqrt(n))+1):\n",
    "        if n % i == 0 and n != i:\n",
    "            return False\n",
    "    return True\n",
    "\n",
    "def next_prime(n):\n",
    "    n += 1\n",
    "    while not is_prime(n):\n",
    "        n += 1\n",
    "    return n\n",
    "\n",
    "def prime_factorization(n):\n",
    "    factors = []\n",
    "    while n != 1:\n",
    "        p = 2\n",
    "        while n % p != 0:\n",
    "            p = next_prime(p)\n",
    "        n /= p\n",
    "        factors.append(p)\n",
    "    return factors\n",
    "\n",
    "def find_primes_eratosthenes(n):\n",
    "    # returns a list of all prime numbers up to n using an implemention of the sieve of erathosthenes\n",
    "    sieve = np.zeros(n)\n",
    "    primes = list()\n",
    "    p = 2\n",
    "    m = 0\n",
    "    while p < n:\n",
    "        primes.append(p)\n",
    "        m = p\n",
    "        while m < n:\n",
    "            sieve[m] = 1\n",
    "            m = m+p    \n",
    "        # find next unmarked number\n",
    "        p += 1\n",
    "        while p < n and sieve[p] == 1:\n",
    "            p += 1\n",
    "    return primes"
   ]
  },
  {
   "cell_type": "code",
   "execution_count": 1,
   "id": "0a25cbfd-ddc0-4897-8706-ce6e840dd72d",
   "metadata": {},
   "outputs": [],
   "source": [
    "def sum_in_list(n, k, nums, sorted=False):\n",
    "    # returns True if the sum n and be created k from elements from nums and False otherwise\n",
    "    if not sorted:\n",
    "        nums.sort()\n",
    "    l = 0\n",
    "    r = len(nums) - 1\n",
    "    while l != r:\n",
    "        pair_sum = nums[l] + nums[r]\n",
    "        if pair_sum == n:\n",
    "            return True\n",
    "        elif pair_sum < n:\n",
    "            l += 1\n",
    "        elif pair_sum > n:\n",
    "            r -= 1\n",
    "    return False"
   ]
  },
  {
   "cell_type": "code",
   "execution_count": 5,
   "id": "ccfd6870-56de-4a44-8c3d-1300edd63baa",
   "metadata": {},
   "outputs": [],
   "source": [
    "def GCD(a, b):\n",
    "    # returns the greatest common denominator of a and b\n",
    "    while a != b:\n",
    "        if a > b:\n",
    "            a = a - b\n",
    "        else:\n",
    "            b = b - a\n",
    "    return a\n",
    "\n",
    "def LCM(a, b):\n",
    "    # returns the least common multiple of a and b\n",
    "    return int(abs(a*b) / GCD(a,b))"
   ]
  },
  {
   "cell_type": "code",
   "execution_count": 7,
   "id": "60b936d2-0002-438a-aa50-6f95fbcf9fbf",
   "metadata": {},
   "outputs": [],
   "source": [
    "def num2string(n):\n",
    "    if n < 20:\n",
    "        return ones[n]\n",
    "    elif n < 100:\n",
    "        return tens[n // 10] + (ones[n % 10] if n % 10 != 0 else \"\")\n",
    "    elif n < 1000:\n",
    "        return ones[n // 100] + \"hundred\" + ((\"and\" + num2string(n % 100)) if (n % 100 != 0) else \"\")\n",
    "    elif n < 10000:\n",
    "        return ones[n // 1000] + \"thousand\" + (num2string(n % 1000) if n % 1000 != 0 else \"\") "
   ]
  }
 ],
 "metadata": {
  "kernelspec": {
   "display_name": "project_euler_conda",
   "language": "python",
   "name": "project_euler_conda"
  },
  "language_info": {
   "codemirror_mode": {
    "name": "ipython",
    "version": 3
   },
   "file_extension": ".py",
   "mimetype": "text/x-python",
   "name": "python",
   "nbconvert_exporter": "python",
   "pygments_lexer": "ipython3",
   "version": "3.9.17"
  }
 },
 "nbformat": 4,
 "nbformat_minor": 5
}
