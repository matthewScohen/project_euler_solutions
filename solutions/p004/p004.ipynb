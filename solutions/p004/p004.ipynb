{
 "cells": [
  {
   "cell_type": "markdown",
   "id": "1801b86e-fda2-40ad-8aa6-5f9d3a841322",
   "metadata": {},
   "source": [
    "https://projecteuler.net/problem=4\n",
    "<p>A palindromic number reads the same both ways. The largest palindrome made from the product of two $2$-digit numbers is $9009 = 91 \\times 99$.</p>\n",
    "<p>Find the largest palindrome made from the product of two $3$-digit numbers.</p>\n"
   ]
  },
  {
   "cell_type": "code",
   "execution_count": 2,
   "id": "e931e4c1-9cb5-414c-94f3-778c0eafa7b1",
   "metadata": {},
   "outputs": [
    {
     "data": {
      "text/plain": [
       "906609"
      ]
     },
     "execution_count": 2,
     "metadata": {},
     "output_type": "execute_result"
    }
   ],
   "source": [
    "max([i*j for i in range(100,1000) for j in range (100, 1000) if str(i*j) == str(i*j)[::-1]])"
   ]
  }
 ],
 "metadata": {
  "kernelspec": {
   "display_name": "project_euler",
   "language": "python",
   "name": "project_euler"
  },
  "language_info": {
   "codemirror_mode": {
    "name": "ipython",
    "version": 3
   },
   "file_extension": ".py",
   "mimetype": "text/x-python",
   "name": "python",
   "nbconvert_exporter": "python",
   "pygments_lexer": "ipython3",
   "version": "3.9.5"
  }
 },
 "nbformat": 4,
 "nbformat_minor": 5
}
