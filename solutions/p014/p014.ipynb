{
 "cells": [
  {
   "cell_type": "markdown",
   "id": "e852ca22-8317-40e2-a2da-b69da7c1c21c",
   "metadata": {},
   "source": [
    "<p>The following iterative sequence is defined for the set of positive integers:</p>\r\n",
    "<ul style=\"list-style-type:none;\">\r\n",
    "<li>$n \\to n/2$ ($n$ is even)</li>\r\n",
    "<li>$n \\to 3n + 1$ ($n$ is odd)</li></ul>\r\n",
    "<p>Using the rule above and starting with $13$, we generate the following sequence:\r\n",
    "$$13 \\to 40 \\to 20 \\to 10 \\to 5 \\to 16 \\to 8 \\to 4 \\to 2 \\to 1.$$</p>\r\n",
    "<p>It can be seen that this sequence (starting at $13$ and finishing at $1$) contains $10$ terms. Although it has not been proved yet (Collatz Problem), it is thought that all starting numbers finish at $1$.</p>\r\n",
    "<p>Which starting number, under one million, produces the longest chain?</p>\r\n",
    "<p class=\"note\"><b>NOTE:</b> Once the chain starts the terms are allowed to go above one million.</p>\r\n"
   ]
  },
  {
   "cell_type": "markdown",
   "id": "52e62cf0-7929-42f5-8c96-dbdb8d30dc6d",
   "metadata": {},
   "source": [
    "Both approaches calculate the length of the sequence as 1 less than in the example above since they do not count the starting number (eg. the length of the sequence for 13 is 9). This doesn't matter for this problem since we are only interested in the longest sequence."
   ]
  },
  {
   "cell_type": "markdown",
   "id": "69032cea-88fa-4559-b942-ca72e726e4c6",
   "metadata": {},
   "source": [
    "Brute force approach"
   ]
  },
  {
   "cell_type": "code",
   "execution_count": 4,
   "id": "97095acf-0fde-458b-99fd-294aea63ae6a",
   "metadata": {},
   "outputs": [
    {
     "name": "stdout",
     "output_type": "stream",
     "text": [
      "837799\n",
      "CPU times: user 17 s, sys: 60 µs, total: 17 s\n",
      "Wall time: 18.4 s\n"
     ]
    }
   ],
   "source": [
    "%%time\n",
    "max_chain_length = 0\n",
    "starting_num = 1\n",
    "for i in range(1, 1000001):\n",
    "    chain_length = 0\n",
    "    n = i\n",
    "    while n != 1:\n",
    "        if n % 2 == 0:\n",
    "            n = n /2\n",
    "        else:\n",
    "            n = 3*n+1\n",
    "        chain_length += 1\n",
    "    if chain_length > max_chain_length:\n",
    "        max_chain_length = chain_length\n",
    "        starting_num = i\n",
    "print(starting_num)"
   ]
  },
  {
   "cell_type": "markdown",
   "id": "1799dc7d-f4ba-49ef-9c00-0ddf1654b16d",
   "metadata": {},
   "source": [
    "Faster approach that works by storing the length of chains that have already been calculated."
   ]
  },
  {
   "cell_type": "code",
   "execution_count": 19,
   "id": "a6ead899-8cae-4770-a9aa-86d5db5e6585",
   "metadata": {},
   "outputs": [
    {
     "name": "stdout",
     "output_type": "stream",
     "text": [
      "837799\n",
      "CPU times: user 1.56 s, sys: 34.9 ms, total: 1.59 s\n",
      "Wall time: 1.73 s\n"
     ]
    }
   ],
   "source": [
    "%%time\n",
    "collatz_chain_lengths = {}\n",
    "def calc_collatz(n):\n",
    "    return _calc_collatz(n,n,0)\n",
    "    \n",
    "def _calc_collatz(starting_num, n, length):  \n",
    "    if n in collatz_chain_lengths.keys():\n",
    "        return length + collatz_chain_lengths[n]\n",
    "    elif n == 1:\n",
    "        return length\n",
    "    elif n % 2 == 0:\n",
    "        return _calc_collatz(starting_num, n/2, length+1)\n",
    "    else:\n",
    "        return _calc_collatz(starting_num, 3*n+1, length+1)\n",
    "\n",
    "for i in range(1,1000001):\n",
    "    collatz_chain_lengths[i] = calc_collatz(i)\n",
    "print(max(collatz_chain_lengths, key = lambda i: collatz_chain_lengths[i]))"
   ]
  }
 ],
 "metadata": {
  "kernelspec": {
   "display_name": "project_euler_conda",
   "language": "python",
   "name": "project_euler_conda"
  },
  "language_info": {
   "codemirror_mode": {
    "name": "ipython",
    "version": 3
   },
   "file_extension": ".py",
   "mimetype": "text/x-python",
   "name": "python",
   "nbconvert_exporter": "python",
   "pygments_lexer": "ipython3",
   "version": "3.9.17"
  }
 },
 "nbformat": 4,
 "nbformat_minor": 5
}
