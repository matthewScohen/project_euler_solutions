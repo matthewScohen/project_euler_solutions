{
 "cells": [
  {
   "cell_type": "markdown",
   "id": "d597f2be-1e71-4e2e-a01f-152e1a928c70",
   "metadata": {},
   "source": [
    "https://projecteuler.net/problem=10\n",
    "<p>The sum of the primes below $10$ is $2 + 3 + 5 + 7 = 17$.</p>\n",
    "<p>Find the sum of all the primes below two million.</p>\n",
    "\n",
    "\n"
   ]
  },
  {
   "cell_type": "code",
   "execution_count": null,
   "id": "11dfb892-e747-4a88-a447-9b16058867bb",
   "metadata": {},
   "outputs": [],
   "source": [
    "import numpy as np\n",
    "\n",
    "def findPrimes(n):\n",
    "    # returns a list of all prime numbers up to n\n",
    "    sieve = np.zeros(n)\n",
    "    return sieve\n",
    "\n",
    "findPrimes(10)"
   ]
  }
 ],
 "metadata": {
  "kernelspec": {
   "display_name": "project_euler_conda",
   "language": "python",
   "name": "project_euler_conda"
  },
  "language_info": {
   "codemirror_mode": {
    "name": "ipython",
    "version": 3
   },
   "file_extension": ".py",
   "mimetype": "text/x-python",
   "name": "python",
   "nbconvert_exporter": "python",
   "pygments_lexer": "ipython3",
   "version": "3.9.17"
  }
 },
 "nbformat": 4,
 "nbformat_minor": 5
}
