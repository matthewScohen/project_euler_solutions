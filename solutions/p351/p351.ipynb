{
 "cells": [
  {
   "cell_type": "markdown",
   "id": "4068eeb9-9562-4c2e-9aab-9c6437a3cf12",
   "metadata": {},
   "source": [
    "https://projecteuler.net/minimal=351\n",
    "<p>A <dfn>hexagonal orchard</dfn> of order $n$ is a triangular lattice made up of points within a regular hexagon with side $n$. The following is an example of a hexagonal orchard of order $5$:\n",
    "</p>\n",
    "\n",
    "<div align=\"center\">\n",
    "<img src=\"resources/images/0351_hexorchard.png?1678992052\" class=\"dark_img\" alt=\"0351_hexorchard.png\"><br></div>\n",
    "\n",
    "<p>\n",
    "Highlighted in green are the points which are hidden from the center by a point closer to it. It can be seen that for a hexagonal orchard of order $5$, $30$ points are hidden from the center.\n",
    "</p>\n",
    "\n",
    "<p>\n",
    "Let $H(n)$ be the number of points hidden from the center in a hexagonal orchard of order $n$.\n",
    "</p>\n",
    "\n",
    "<p>\n",
    "$H(5) = 30$. $H(10) = 138$. $H(1\\,000) = 1177848$.\n",
    "</p>\n",
    "\n",
    "<p>\n",
    "Find $H(100\\,000\\,000)$.\n",
    "</p>"
   ]
  },
  {
   "cell_type": "code",
   "execution_count": null,
   "id": "5bb09f2b-ec02-4b40-be31-16ba9f1b0f60",
   "metadata": {},
   "outputs": [],
   "source": [
    "import matplotlib.pyplot as plt\n",
    "import numpy as np\n",
    "\n",
    "size = 10\n",
    "\n",
    "fig, ax = plt.subplots()\n",
    "for i in range(1, 5):\n",
    "    y = i * size\n",
    "    x = np.arange(-i*size, i*size+size, size)\n",
    "    ax.scatter(x, y)\n",
    "\n",
    "plt.show()"
   ]
  },
  {
   "cell_type": "code",
   "execution_count": null,
   "id": "9c8420af-2a4e-442a-a3a7-c58aa0cc1b2e",
   "metadata": {},
   "outputs": [],
   "source": []
  }
 ],
 "metadata": {
  "kernelspec": {
   "display_name": "project_euler",
   "language": "python",
   "name": "project_euler"
  },
  "language_info": {
   "codemirror_mode": {
    "name": "ipython",
    "version": 3
   },
   "file_extension": ".py",
   "mimetype": "text/x-python",
   "name": "python",
   "nbconvert_exporter": "python",
   "pygments_lexer": "ipython3",
   "version": "3.9.5"
  }
 },
 "nbformat": 4,
 "nbformat_minor": 5
}
