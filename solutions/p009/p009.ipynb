{
 "cells": [
  {
   "cell_type": "markdown",
   "id": "e2730be2-1962-4cbb-8863-c61b8cceb3d9",
   "metadata": {},
   "source": [
    "https://projecteuler.net/problem=9\n",
    "<p>A Pythagorean triplet is a set of three natural numbers, $a \\lt b \\lt c$, for which,\n",
    "$$a^2 + b^2 = c^2.$$</p>\n",
    "<p>For example, $3^2 + 4^2 = 9 + 16 = 25 = 5^2$.</p>\n",
    "<p>There exists exactly one Pythagorean triplet for which $a + b + c = 1000$.<br>Find the product $abc$.</p>\n"
   ]
  },
  {
   "cell_type": "code",
   "execution_count": 14,
   "id": "1a606209-0bd4-4acd-9966-92ca897850ad",
   "metadata": {},
   "outputs": [
    {
     "name": "stdout",
     "output_type": "stream",
     "text": [
      "a=200, b=375, c=425.0, a*b*c=31875000.0\n"
     ]
    }
   ],
   "source": [
    "import math\n",
    "\n",
    "def solve():\n",
    "    for a in range(1,1000):\n",
    "        for b in range(1,1000):\n",
    "            c = math.sqrt(a**2 + b**2)\n",
    "            if c == int(c) and a + b + c == 1000:\n",
    "                print(f\"{a=}, {b=}, {c=}, {a*b*c=}\")\n",
    "                return\n",
    "solve()"
   ]
  }
 ],
 "metadata": {
  "kernelspec": {
   "display_name": "project_euler_conda",
   "language": "python",
   "name": "project_euler_conda"
  },
  "language_info": {
   "codemirror_mode": {
    "name": "ipython",
    "version": 3
   },
   "file_extension": ".py",
   "mimetype": "text/x-python",
   "name": "python",
   "nbconvert_exporter": "python",
   "pygments_lexer": "ipython3",
   "version": "3.9.17"
  }
 },
 "nbformat": 4,
 "nbformat_minor": 5
}
