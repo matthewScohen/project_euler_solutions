{
 "cells": [
  {
   "cell_type": "markdown",
   "id": "d49bda87-f261-47f7-9ed7-ff673d921c58",
   "metadata": {},
   "source": [
    "https://projecteuler.net/problem=3\n",
    "<p>The prime factors of $13195$ are $5, 7, 13$ and $29$.</p>\n",
    "<p>What is the largest prime factor of the number $600851475143$?</p>"
   ]
  },
  {
   "cell_type": "code",
   "execution_count": 11,
   "id": "a687c0bc-86d6-475b-83fd-995a5c6c8346",
   "metadata": {},
   "outputs": [
    {
     "data": {
      "text/plain": [
       "6857"
      ]
     },
     "execution_count": 11,
     "metadata": {},
     "output_type": "execute_result"
    }
   ],
   "source": [
    "import math\n",
    "\n",
    "def is_prime(n):\n",
    "    for i in range(2, math.ceil(math.sqrt(n))+1):\n",
    "        if n % i == 0 and n != i:\n",
    "            return False\n",
    "    return True\n",
    "\n",
    "def next_prime(n):\n",
    "    n += 1\n",
    "    while not is_prime(n):\n",
    "        n += 1\n",
    "    return n\n",
    "\n",
    "def prime_factorization(n):\n",
    "    factors = []\n",
    "    while n != 1:\n",
    "        p = 2\n",
    "        while n % p != 0:\n",
    "            p = next_prime(p)\n",
    "        n /= p\n",
    "        factors.append(p)\n",
    "    return factors\n",
    "            \n",
    "max(prime_factorization(600851475143))"
   ]
  }
 ],
 "metadata": {
  "kernelspec": {
   "display_name": "project_euler",
   "language": "python",
   "name": "project_euler"
  },
  "language_info": {
   "codemirror_mode": {
    "name": "ipython",
    "version": 3
   },
   "file_extension": ".py",
   "mimetype": "text/x-python",
   "name": "python",
   "nbconvert_exporter": "python",
   "pygments_lexer": "ipython3",
   "version": "3.9.5"
  }
 },
 "nbformat": 4,
 "nbformat_minor": 5
}
