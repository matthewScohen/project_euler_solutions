{
 "cells": [
  {
   "cell_type": "markdown",
   "id": "fb62b522-c30d-400f-86b6-62b19dfb8eae",
   "metadata": {},
   "source": [
    "https://projecteuler.net/problem=5\n",
    "<p>$2520$ is the smallest number that can be divided by each of the numbers from $1$ to $10$ without any remainder.</p>\n",
    "<p>What is the smallest positive number that is evenly divisible with no remainder</span></dfn> by all of the numbers from $1$ to $20$?</p>"
   ]
  },
  {
   "cell_type": "code",
   "execution_count": 17,
   "id": "757e36af-b8bb-4c25-89de-8d018c9eb70a",
   "metadata": {},
   "outputs": [
    {
     "name": "stdout",
     "output_type": "stream",
     "text": [
      "232792560\n"
     ]
    }
   ],
   "source": [
    "def GCD(a, b):\n",
    "    # returns the greatest common denominator of a and b\n",
    "    while a != b:\n",
    "        if a > b:\n",
    "            a = a - b\n",
    "        else:\n",
    "            b = b - a\n",
    "    return a\n",
    "\n",
    "def LCM(a, b):\n",
    "    # returns the least common multiple of a and b\n",
    "    return int(abs(a*b) / GCD(a,b))\n",
    "\n",
    "n = 1\n",
    "for i in range(1,21):\n",
    "    n = LCM(i, n)\n",
    "    \n",
    "print(n)"
   ]
  }
 ],
 "metadata": {
  "kernelspec": {
   "display_name": "project_euler_conda",
   "language": "python",
   "name": "project_euler_conda"
  },
  "language_info": {
   "codemirror_mode": {
    "name": "ipython",
    "version": 3
   },
   "file_extension": ".py",
   "mimetype": "text/x-python",
   "name": "python",
   "nbconvert_exporter": "python",
   "pygments_lexer": "ipython3",
   "version": "3.9.17"
  }
 },
 "nbformat": 4,
 "nbformat_minor": 5
}
