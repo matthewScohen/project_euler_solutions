{
 "cells": [
  {
   "cell_type": "markdown",
   "id": "a803a2f0-f2c0-422d-9d25-dc3eacd7a19c",
   "metadata": {},
   "source": [
    "https://projecteuler.net/problem=7\n",
    "<p>By listing the first six prime numbers: $2, 3, 5, 7, 11$, and $13$, we can see that the $6$th prime is $13$.</p>\r\n",
    "<p>What is the $10\\,001$st prime number?</p>\r"
   ]
  },
  {
   "cell_type": "code",
   "execution_count": 7,
   "id": "0edcca0e-f78f-4858-b552-b2cccdfc0f26",
   "metadata": {},
   "outputs": [
    {
     "data": {
      "text/plain": [
       "104743"
      ]
     },
     "execution_count": 7,
     "metadata": {},
     "output_type": "execute_result"
    }
   ],
   "source": [
    "import math\n",
    "\n",
    "def is_prime(n):\n",
    "    for i in range(2, math.floor(math.sqrt(n))+1):\n",
    "        if n % i == 0 and n != i:\n",
    "            return False\n",
    "    return True\n",
    "\n",
    "def next_prime(n):\n",
    "    n += 1\n",
    "    while not is_prime(n):\n",
    "        n += 1\n",
    "    return n\n",
    "\n",
    "count = 0\n",
    "index = 10001\n",
    "n = 1\n",
    "while count < index:\n",
    "    n = next_prime(n)\n",
    "    count += 1\n",
    "n"
   ]
  }
 ],
 "metadata": {
  "kernelspec": {
   "display_name": "project_euler_conda",
   "language": "python",
   "name": "project_euler_conda"
  },
  "language_info": {
   "codemirror_mode": {
    "name": "ipython",
    "version": 3
   },
   "file_extension": ".py",
   "mimetype": "text/x-python",
   "name": "python",
   "nbconvert_exporter": "python",
   "pygments_lexer": "ipython3",
   "version": "3.9.17"
  }
 },
 "nbformat": 4,
 "nbformat_minor": 5
}
